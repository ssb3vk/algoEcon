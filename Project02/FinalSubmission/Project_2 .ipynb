{
 "cells": [
  {
   "cell_type": "markdown",
   "metadata": {},
   "source": [
    "# CS 4501 Algorithmic Economics - Project 2"
   ]
  },
  {
   "cell_type": "markdown",
   "metadata": {},
   "source": [
    "### Task I: Uncoupled No-Regret Learning Dynamics under Full Information"
   ]
  },
  {
   "cell_type": "code",
   "execution_count": 79,
   "metadata": {},
   "outputs": [],
   "source": [
    "import numpy as np\n",
    "import random\n",
    "import math\n",
    "import matplotlib.pyplot as plt"
   ]
  },
  {
   "cell_type": "markdown",
   "metadata": {},
   "source": [
    "#### Question (a) - Pennies game"
   ]
  },
  {
   "cell_type": "code",
   "execution_count": 80,
   "metadata": {},
   "outputs": [],
   "source": [
    "# An example template of the Multiplicative Weight Update Algorithm. You DO NOT have to use this template\n",
    "\n",
    "# ------- Multiplicative Weight Update Algorithm -------#\n",
    "def MWU(M_a, M_b, compute_epsilon, T = 3000):\n",
    "    \"\"\"\n",
    "    Inputs:\n",
    "        M_a: the k by k payoff matrix for player A, where k is the number of strategies: M_a[i,j] - the utility of A where A plays i and B plays j\n",
    "        \n",
    "        M_b: the k by k payoff matrix for player B, where k is the number of strategies: M_b[i,j] - the utility of B where A plays i and B plays j\n",
    "        \n",
    "        compute_epsilon: the function that computes epsilon\n",
    "        \n",
    "        T: the number of iterations. Default is 3000\n",
    "        \n",
    "    Output (you may use any data struct):\n",
    "        avg_conv_a: the avg convergence seqeunce of A\n",
    "        avg_conv_b: the avg convergence seqeunce of B\n",
    "        last_conv_a: the last convergence seqeunce of A\n",
    "        last_conv_b: the last convergence seqeunce of B\n",
    "    \"\"\"\n",
    "    \n",
    "    # The number of strategies\n",
    "    k = M_a.shape[0]\n",
    "    \n",
    "    # The initial weight matrix for player A and B: w_a[i] - the weight of strategy i for player A\n",
    "    w_a = np.array([random.uniform(0, 1) for _ in range(k)])\n",
    "    w_b = np.array([random.uniform(0, 1) for _ in range(k)])\n",
    "    \n",
    "    # The convergence seqeunces\n",
    "    avg_conv_a, avg_conv_b, last_conv_a, last_conv_b = ([None] * T for i in range(4)) \n",
    "    \n",
    "    # Sum of probability (used to compute average convergence sequences)\n",
    "    sum_p_a = 0.0\n",
    "    sum_p_b = 0.0\n",
    "    \n",
    "    # The game starts\n",
    "    for t in range(T):\n",
    "        # Compute epsilon\n",
    "        epsilon = compute_epsilon(t)\n",
    "        \n",
    "        # ---------- Fill out the details --------------# \n",
    "        # Simple matrix operations can be used here\n",
    "\n",
    "    return avg_conv_a, avg_conv_b, last_conv_a, last_conv_b"
   ]
  },
  {
   "cell_type": "code",
   "execution_count": 81,
   "metadata": {},
   "outputs": [],
   "source": [
    "# Example payoff matrices for pennies game. 0 - head; 1 - tail\n",
    "M_a = np.array([[-1, 1], [1, -1]])\n",
    "M_b = np.array([[1, -1], [-1, 1]])"
   ]
  },
  {
   "cell_type": "markdown",
   "metadata": {},
   "source": [
    "**Choice 1: epsilon = 1/2**"
   ]
  },
  {
   "cell_type": "code",
   "execution_count": 82,
   "metadata": {},
   "outputs": [],
   "source": [
    "# Choice 1: epsilon = 1/2\n",
    "def compute_epsilon(t):\n",
    "    return 0.5\n",
    "\n",
    "# -------- Call function MWU, draw plots -------------# \n"
   ]
  },
  {
   "cell_type": "markdown",
   "metadata": {},
   "source": [
    "**Choice 2: epsilon = 1/t**"
   ]
  },
  {
   "cell_type": "code",
   "execution_count": 251,
   "metadata": {},
   "outputs": [],
   "source": [
    "# Choice 2: epsilon = 1/t\n",
    "def compute_epsilon(t):\n",
    "    return float(1/(t+1))\n",
    "\n",
    "# -------- Call function MWU, draw plots -------------# \n"
   ]
  },
  {
   "cell_type": "markdown",
   "metadata": {},
   "source": [
    "**Choice 3: epsilon = 1/(t^2/3)**"
   ]
  },
  {
   "cell_type": "code",
   "execution_count": 258,
   "metadata": {},
   "outputs": [],
   "source": [
    "# Choice 3: epsilon = 1/(t^2/3)\n",
    "def compute_epsilon(t):\n",
    "    return float(1/((t+1)**(2/3)))\n",
    "\n",
    "# -------- Call function MWU, draw plots -------------# \n"
   ]
  },
  {
   "cell_type": "markdown",
   "metadata": {},
   "source": [
    "**Choice 4: 1/sqrt(t)**"
   ]
  },
  {
   "cell_type": "code",
   "execution_count": 268,
   "metadata": {},
   "outputs": [],
   "source": [
    "# Choice 4: epsilon = 1/sqrt(t)\n",
    "def compute_epsilon(t):\n",
    "    return float(1/math.sqrt(t+1))\n",
    "\n",
    "# -------- Call function MWU, draw plots -------------# \n"
   ]
  },
  {
   "cell_type": "markdown",
   "metadata": {},
   "source": [
    "**Choice 5: epsilon = 1/(t^(1/3))**"
   ]
  },
  {
   "cell_type": "code",
   "execution_count": 271,
   "metadata": {},
   "outputs": [],
   "source": [
    "# Choice 5: epsilon = 1/(t^(1/3))\n",
    "def compute_epsilon(t):\n",
    "    return float(1/((t+1)**(1/3)))\n",
    "\n",
    "# -------- Call function MWU, draw plots -------------# \n"
   ]
  },
  {
   "cell_type": "markdown",
   "metadata": {},
   "source": [
    "#### Question (b) - Rock-paper-scissors game"
   ]
  },
  {
   "cell_type": "code",
   "execution_count": 294,
   "metadata": {},
   "outputs": [],
   "source": [
    "# Example payoff matrices for RPS game. 0 - rock; 1 - paper; 2 - scissors\n",
    "M_a = np.array([[0, -1, 1], [1, 0, -1], [-1, 1, 0]])\n",
    "M_b = np.array([[0, 1, -1], [-1, 0, 1], [1, -1, 0]])"
   ]
  },
  {
   "cell_type": "markdown",
   "metadata": {},
   "source": [
    "**Choice 1: epsilon = 1/2**"
   ]
  },
  {
   "cell_type": "code",
   "execution_count": 295,
   "metadata": {},
   "outputs": [],
   "source": [
    "# Choice 1: epsilon = 1/2\n",
    "def compute_epsilon(t):\n",
    "    return 0.5\n",
    "\n",
    "# -------- Call function MWU, draw plots -------------# \n"
   ]
  },
  {
   "cell_type": "markdown",
   "metadata": {},
   "source": [
    "**Choice 2: epsilon = 1/t**"
   ]
  },
  {
   "cell_type": "code",
   "execution_count": 300,
   "metadata": {},
   "outputs": [],
   "source": [
    "# Choice 2: epsilon = 1/t\n",
    "def compute_epsilon(t):\n",
    "    return float(1/(t+1))\n",
    "\n",
    "# -------- Call function MWU, draw plots -------------# \n"
   ]
  },
  {
   "cell_type": "markdown",
   "metadata": {},
   "source": [
    "**Choice 3: epsilon = 1/(t^2/3)**"
   ]
  },
  {
   "cell_type": "code",
   "execution_count": 83,
   "metadata": {},
   "outputs": [],
   "source": [
    "# Choice 3: epsilon = 1/(t^2/3)\n",
    "def compute_epsilon(t):\n",
    "    return float(1/((t+1)**(2/3)))\n",
    "\n",
    "# -------- Call function MWU, draw plots -------------# \n"
   ]
  },
  {
   "cell_type": "markdown",
   "metadata": {},
   "source": [
    "**Choice 4: 1/sqrt(t)**"
   ]
  },
  {
   "cell_type": "code",
   "execution_count": 310,
   "metadata": {},
   "outputs": [],
   "source": [
    "# Choice 4: epsilon = 1/sqrt(t)\n",
    "def compute_epsilon(t):\n",
    "    return float(1/math.sqrt(t+1))\n",
    "\n",
    "# -------- Call function MWU, draw plots -------------# \n"
   ]
  },
  {
   "cell_type": "markdown",
   "metadata": {},
   "source": [
    "**Choice 5: epsilon = 1/(t^(1/3))**"
   ]
  },
  {
   "cell_type": "code",
   "execution_count": 315,
   "metadata": {},
   "outputs": [],
   "source": [
    "# Choice 5: epsilon = 1/(t^(1/3))\n",
    "def compute_epsilon(t):\n",
    "    return float(1/((t+1)**(1/3)))\n",
    "\n",
    "# -------- Call function MWU, draw plots -------------# \n"
   ]
  },
  {
   "cell_type": "markdown",
   "metadata": {},
   "source": [
    "#### Question (c)"
   ]
  },
  {
   "cell_type": "code",
   "execution_count": 74,
   "metadata": {},
   "outputs": [],
   "source": [
    "# A function template to construct payoff matrices for the DIR game\n",
    "# You DO NOT have to use this template\n",
    "def construct_DIR(K, c):\n",
    "    rho = max(K, c)\n",
    "    M_a = np.zeros((K, K))\n",
    "    M_b = np.zeros((K, K))\n",
    "    \n",
    "    for i in range(K):\n",
    "        for j in range(K):\n",
    "            if i <= (j+1):\n",
    "                # something happens here\n",
    "            else:\n",
    "                # something happens here\n",
    "                \n",
    "            if j <= i:\n",
    "                # something happens here\n",
    "            else:\n",
    "                # something happens here\n",
    "    return M_a, M_b"
   ]
  },
  {
   "cell_type": "markdown",
   "metadata": {},
   "source": [
    "**Choice 1: epsilon = 1/2**"
   ]
  },
  {
   "cell_type": "code",
   "execution_count": 295,
   "metadata": {},
   "outputs": [],
   "source": [
    "# Choice 1: epsilon = 1/2\n",
    "def compute_epsilon(t):\n",
    "    return 0.5\n",
    "\n",
    "# -------- Call function MWU, draw plots -------------# \n"
   ]
  },
  {
   "cell_type": "markdown",
   "metadata": {},
   "source": [
    "**Choice 2: epsilon = 1/t**"
   ]
  },
  {
   "cell_type": "code",
   "execution_count": 300,
   "metadata": {},
   "outputs": [],
   "source": [
    "# Choice 2: epsilon = 1/t\n",
    "def compute_epsilon(t):\n",
    "    return float(1/(t+1))\n",
    "\n",
    "# -------- Call function MWU, draw plots -------------# \n"
   ]
  },
  {
   "cell_type": "markdown",
   "metadata": {},
   "source": [
    "**Choice 3: epsilon = 1/(t^2/3)**"
   ]
  },
  {
   "cell_type": "code",
   "execution_count": 83,
   "metadata": {},
   "outputs": [],
   "source": [
    "# Choice 3: epsilon = 1/(t^2/3)\n",
    "def compute_epsilon(t):\n",
    "    return float(1/((t+1)**(2/3)))\n",
    "\n",
    "# -------- Call function MWU, draw plots -------------# \n"
   ]
  },
  {
   "cell_type": "markdown",
   "metadata": {},
   "source": [
    "**Choice 4: 1/sqrt(t)**"
   ]
  },
  {
   "cell_type": "code",
   "execution_count": 310,
   "metadata": {},
   "outputs": [],
   "source": [
    "# Choice 4: epsilon = 1/sqrt(t)\n",
    "def compute_epsilon(t):\n",
    "    return float(1/math.sqrt(t+1))\n",
    "\n",
    "# -------- Call function MWU, draw plots -------------# \n"
   ]
  },
  {
   "cell_type": "markdown",
   "metadata": {},
   "source": [
    "**Choice 5: epsilon = 1/(t^(1/3))**"
   ]
  },
  {
   "cell_type": "code",
   "execution_count": 315,
   "metadata": {},
   "outputs": [],
   "source": [
    "# Choice 5: epsilon = 1/(t^(1/3))\n",
    "def compute_epsilon(t):\n",
    "    return float(1/((t+1)**(1/3)))\n",
    "\n",
    "# -------- Call function MWU, draw plots -------------# \n"
   ]
  },
  {
   "cell_type": "markdown",
   "metadata": {},
   "source": [
    "### Task II: Uncoupled No-Regret Learning Dynamics under Bandit Information"
   ]
  },
  {
   "cell_type": "code",
   "execution_count": 349,
   "metadata": {},
   "outputs": [],
   "source": [
    "# An example template of the Multiplicative Weight Update Algorithm. \n",
    "# You DO NOT have to use this template\n",
    "\n",
    "# ------- EXP3 Algorithm -------#\n",
    "def EXP3(M_a, M_b, compute_epsilon, T = 3000):\n",
    "    \"\"\"\n",
    "    Inputs:\n",
    "        M_a: the k by k payoff matrix for player A, where k is the number of strategies: M_a[i,j] - the utility of A where A plays i and B plays j\n",
    "        \n",
    "        M_b: the k by k payoff matrix for player B, where k is the number of strategies: M_b[i,j] - the utility of B where A plays i and B plays j\n",
    "        \n",
    "        compute_epsilon: the function that computes epsilon\n",
    "        \n",
    "        T: the number of iterations. Default is 3000\n",
    "        \n",
    "    Output (not using dict here :-D ):\n",
    "        avg_conv_a: the avg convergence seqeunce of A\n",
    "        avg_conv_b: the avg convergence seqeunce of B\n",
    "        last_conv_a: the last convergence seqeunce of A\n",
    "        last_conv_b: the last convergence seqeunce of B\n",
    "    \"\"\"\n",
    "    \n",
    "    # The number of strategies\n",
    "    k = M_a.shape[0]\n",
    "    \n",
    "    # The initial weight matrix for player A and B: w_a[i] - the weight of strategy i for player A\n",
    "    w_a = np.array([random.uniform(0, 1) for _ in range(k)])\n",
    "    w_b = np.array([random.uniform(0, 1) for _ in range(k)])\n",
    "    \n",
    "    # The convergence seqeunces\n",
    "    avg_conv_a, avg_conv_b, last_conv_a, last_conv_b = ([None] * T for i in range(4)) \n",
    "    \n",
    "    # Sum of probability (used to compute average convergence sequences)\n",
    "    sum_p_a = 0.0\n",
    "    sum_p_b = 0.0\n",
    "    \n",
    "    # The game starts\n",
    "    for t in range(T):\n",
    "        # Compute epsilon\n",
    "        epsilon = compute_epsilon(t)\n",
    "        \n",
    "        # ---------- Fill out the details --------------# \n",
    "    \n",
    "    return avg_conv_a, avg_conv_b, last_conv_a, last_conv_b"
   ]
  },
  {
   "cell_type": "markdown",
   "metadata": {},
   "source": [
    "#### Question (a) - Pennies game"
   ]
  },
  {
   "cell_type": "code",
   "execution_count": 81,
   "metadata": {},
   "outputs": [],
   "source": [
    "# Example payoff matrices for pennies game. 0 - head; 1 - tail\n",
    "M_a = np.array([[-1, 1], [1, -1]])\n",
    "M_b = np.array([[1, -1], [-1, 1]])"
   ]
  },
  {
   "cell_type": "markdown",
   "metadata": {},
   "source": [
    "**Choice 1: epsilon = 1/2**"
   ]
  },
  {
   "cell_type": "code",
   "execution_count": 82,
   "metadata": {},
   "outputs": [],
   "source": [
    "# Choice 1: epsilon = 1/2\n",
    "def compute_epsilon(t):\n",
    "    return 0.5\n",
    "\n",
    "# -------- Call function EXP3, draw plots -------------# \n"
   ]
  },
  {
   "cell_type": "markdown",
   "metadata": {},
   "source": [
    "**Choice 2: epsilon = 1/t**"
   ]
  },
  {
   "cell_type": "code",
   "execution_count": 251,
   "metadata": {},
   "outputs": [],
   "source": [
    "# Choice 2: epsilon = 1/t\n",
    "def compute_epsilon(t):\n",
    "    return float(1/(t+1))\n",
    "\n",
    "# -------- Call function EXP3, draw plots -------------# \n"
   ]
  },
  {
   "cell_type": "markdown",
   "metadata": {},
   "source": [
    "**Choice 3: epsilon = 1/(t^2/3)**"
   ]
  },
  {
   "cell_type": "code",
   "execution_count": 258,
   "metadata": {},
   "outputs": [],
   "source": [
    "# Choice 3: epsilon = 1/(t^2/3)\n",
    "def compute_epsilon(t):\n",
    "    return float(1/((t+1)**(2/3)))\n",
    "\n",
    "# -------- Call function EXP3, draw plots -------------# \n"
   ]
  },
  {
   "cell_type": "markdown",
   "metadata": {},
   "source": [
    "**Choice 4: 1/sqrt(t)**"
   ]
  },
  {
   "cell_type": "code",
   "execution_count": 268,
   "metadata": {},
   "outputs": [],
   "source": [
    "# Choice 4: epsilon = 1/sqrt(t)\n",
    "def compute_epsilon(t):\n",
    "    return float(1/math.sqrt(t+1))\n",
    "\n",
    "# -------- Call function EXP3, draw plots -------------# \n"
   ]
  },
  {
   "cell_type": "markdown",
   "metadata": {},
   "source": [
    "**Choice 5: epsilon = 1/(t^(1/3))**"
   ]
  },
  {
   "cell_type": "code",
   "execution_count": 271,
   "metadata": {},
   "outputs": [],
   "source": [
    "# Choice 5: epsilon = 1/(t^(1/3))\n",
    "def compute_epsilon(t):\n",
    "    return float(1/((t+1)**(1/3)))\n",
    "\n",
    "# -------- Call function EXP3, draw plots -------------# \n"
   ]
  },
  {
   "cell_type": "markdown",
   "metadata": {},
   "source": [
    "#### Question (b) - Rock-paper-scissors game"
   ]
  },
  {
   "cell_type": "code",
   "execution_count": 294,
   "metadata": {},
   "outputs": [],
   "source": [
    "# Example payoff matrices for RPS game. 0 - rock; 1 - paper; 2 - scissors\n",
    "M_a = np.array([[0, -1, 1], [1, 0, -1], [-1, 1, 0]])\n",
    "M_b = np.array([[0, 1, -1], [-1, 0, 1], [1, -1, 0]])"
   ]
  },
  {
   "cell_type": "markdown",
   "metadata": {},
   "source": [
    "**Choice 1: epsilon = 1/2**"
   ]
  },
  {
   "cell_type": "code",
   "execution_count": 295,
   "metadata": {},
   "outputs": [],
   "source": [
    "# Choice 1: epsilon = 1/2\n",
    "def compute_epsilon(t):\n",
    "    return 0.5\n",
    "\n",
    "# -------- Call function EXP3, draw plots -------------# \n"
   ]
  },
  {
   "cell_type": "markdown",
   "metadata": {},
   "source": [
    "**Choice 2: epsilon = 1/t**"
   ]
  },
  {
   "cell_type": "code",
   "execution_count": 300,
   "metadata": {},
   "outputs": [],
   "source": [
    "# Choice 2: epsilon = 1/t\n",
    "def compute_epsilon(t):\n",
    "    return float(1/(t+1))\n",
    "\n",
    "# -------- Call function EXP3, draw plots -------------# \n"
   ]
  },
  {
   "cell_type": "markdown",
   "metadata": {},
   "source": [
    "**Choice 3: epsilon = 1/(t^2/3)**"
   ]
  },
  {
   "cell_type": "code",
   "execution_count": 83,
   "metadata": {},
   "outputs": [],
   "source": [
    "# Choice 3: epsilon = 1/(t^2/3)\n",
    "def compute_epsilon(t):\n",
    "    return float(1/((t+1)**(2/3)))\n",
    "\n",
    "# -------- Call function EXP3, draw plots -------------# \n"
   ]
  },
  {
   "cell_type": "markdown",
   "metadata": {},
   "source": [
    "**Choice 4: 1/sqrt(t)**"
   ]
  },
  {
   "cell_type": "code",
   "execution_count": 310,
   "metadata": {},
   "outputs": [],
   "source": [
    "# Choice 4: epsilon = 1/sqrt(t)\n",
    "def compute_epsilon(t):\n",
    "    return float(1/math.sqrt(t+1))\n",
    "\n",
    "# -------- Call function EXP3, draw plots -------------# \n"
   ]
  },
  {
   "cell_type": "markdown",
   "metadata": {},
   "source": [
    "**Choice 5: epsilon = 1/(t^(1/3))**"
   ]
  },
  {
   "cell_type": "code",
   "execution_count": 315,
   "metadata": {},
   "outputs": [],
   "source": [
    "# Choice 5: epsilon = 1/(t^(1/3))\n",
    "def compute_epsilon(t):\n",
    "    return float(1/((t+1)**(1/3)))\n",
    "\n",
    "# -------- Call function EXP3, draw plots -------------# \n"
   ]
  }
 ],
 "metadata": {
  "kernelspec": {
   "display_name": "Python 3",
   "language": "python",
   "name": "python3"
  },
  "language_info": {
   "codemirror_mode": {
    "name": "ipython",
    "version": 3
   },
   "file_extension": ".py",
   "mimetype": "text/x-python",
   "name": "python",
   "nbconvert_exporter": "python",
   "pygments_lexer": "ipython3",
   "version": "3.8.8"
  }
 },
 "nbformat": 4,
 "nbformat_minor": 5
}
