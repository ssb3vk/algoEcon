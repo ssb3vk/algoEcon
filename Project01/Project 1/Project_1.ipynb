{
 "cells": [
  {
   "cell_type": "markdown",
   "id": "9fc30ed8",
   "metadata": {},
   "source": [
    "# CS 4501 Algorithmic Economics - Project 1\n",
    "\n",
    "**Note:** For each of the question, please add some print or graph drawing commands to show your results in a clear way and also necessary analyses and demonstrations to help people who are not in your group understand your logics and results.\n"
   ]
  },
  {
   "cell_type": "markdown",
   "id": "dcd94d38",
   "metadata": {},
   "source": [
    "## Part 1\n",
    "### Question 1\n",
    "Using a Jupyter notebook import the csv file as pandas dataframe."
   ]
  },
  {
   "cell_type": "code",
   "execution_count": null,
   "id": "428ba198",
   "metadata": {},
   "outputs": [],
   "source": [
    "import pandas as pd\n",
    "import numpy as np\n",
    "df = pd.read_csv ()\n",
    "print (df)\n",
    "\n",
    "print(  \"Number of Customer_ID\",    len(pd.unique(df['Customer_ID']))  )\n",
    "print(  \"Number of SKU  \",    len(pd.unique(df['SKU']))  )\n",
    "\n"
   ]
  },
  {
   "cell_type": "markdown",
   "id": "95ca3f70",
   "metadata": {},
   "source": [
    "### Question 2\n",
    "The fact that consumer does not purchase anything can be \n",
    "interpreted as that she chose an outside option. Given that the fact that she chose an outside option is not recorded in this dataset, argue how you would construct a proxi variable for the choice of an outside option. Add such a proxi variable to your dataframe. \n",
    "\n",
    "**Hint:** you can use information that some consumers do not appear in the data every week. "
   ]
  },
  {
   "cell_type": "markdown",
   "id": "fa33658f",
   "metadata": {},
   "source": [
    "**Please input your answer in this cell:**\n",
    "\n",
    "\n"
   ]
  },
  {
   "cell_type": "markdown",
   "id": "04e1c7b2",
   "metadata": {},
   "source": [
    "Add such a proxi variable to your dataframe. \n"
   ]
  },
  {
   "cell_type": "code",
   "execution_count": null,
   "id": "47e81891",
   "metadata": {},
   "outputs": [],
   "source": [
    "#filter the data\n",
    "df = df[[]] \n",
    "\n"
   ]
  },
  {
   "cell_type": "code",
   "execution_count": null,
   "id": "d787305a",
   "metadata": {},
   "outputs": [],
   "source": [
    "#add such parameter based on your choice, you may not use below sentence.\n",
    "df[\"no_show\"] =\n"
   ]
  },
  {
   "cell_type": "markdown",
   "id": "6a60b9ef",
   "metadata": {},
   "source": [
    "### Question 3\n",
    "Given that we do not have **explicit** consumer feature vectors $\\mathbf{x}^i = (x^i_1, \\cdots, x_k^i)$  in the data, discuss how you would construct such feature vectors for each consumer $i$ from the given data. Add your constructed characteristics to your dataframe. \n",
    "\n",
    "**Hint:** you can use transaction history and argue that past shopping patterns may give a good characterization for a given consumer."
   ]
  },
  {
   "cell_type": "markdown",
   "id": "7bc09a47",
   "metadata": {},
   "source": [
    "**Please input your answer in this cell:**\n",
    "\n",
    "\n",
    "\n"
   ]
  },
  {
   "cell_type": "markdown",
   "id": "fbc0d2e3",
   "metadata": {},
   "source": [
    "Add your constructed characteristics to your dataframe. "
   ]
  },
  {
   "cell_type": "code",
   "execution_count": null,
   "id": "fed0c2a6",
   "metadata": {},
   "outputs": [],
   "source": [
    "#construct your new variable\n",
    "df['feature 1'] = df.iloc[].sum(axis=1)\n"
   ]
  },
  {
   "cell_type": "code",
   "execution_count": null,
   "id": "af0f1b62",
   "metadata": {},
   "outputs": [],
   "source": [
    "#restucture your data\n",
    "df =  df[[]] \n",
    "\n"
   ]
  },
  {
   "cell_type": "markdown",
   "id": "caa79024",
   "metadata": {},
   "source": [
    "### Question 4\n",
    "Produce the utility parameters $\\beta_{0j}, \\beta_{1j},\\cdots \\beta_{kj}$ and $\\alpha_j$ for every product $j$  by estimating a multinomial \n",
    "logit model from your constructed dataset."
   ]
  },
  {
   "cell_type": "code",
   "execution_count": null,
   "id": "f4c8924c",
   "metadata": {},
   "outputs": [],
   "source": [
    "#Hint: you can use sklearn.linear_model.LogisticRegression() to achieve an estimation\n",
    "\n",
    "sklearn.linear_model.LogisticRegression().fit(X, y)\n"
   ]
  },
  {
   "cell_type": "markdown",
   "id": "5f404fd4",
   "metadata": {},
   "source": [
    "## Part 2\n",
    "### Question 1\n",
    "Construct a multi-armed bandit algorithm such that\n",
    "\n",
    "1. It is randomly initialized at first and selects **one** product out of $j$ available products.\n",
    "2. It updates  $\\beta_{0j}, \\beta_{1j},\\cdots \\beta_{kj}$ and $\\alpha_j$  over  time by observing the utility $\\widehat{u}_{ij}$ of each product $j$ it selected in the past and selects new products\n"
   ]
  },
  {
   "cell_type": "code",
   "execution_count": null,
   "id": "e04e4738",
   "metadata": {},
   "outputs": [],
   "source": [
    "#Hint: Try ridge regression on each arm separately,\n",
    "\n",
    "\n",
    "def decicde():\n",
    "    \n",
    "    return \n",
    "\n",
    "\n",
    "def update_parameter():\n",
    "    \n",
    "    \n",
    "    return \n",
    "\n",
    "\n"
   ]
  },
  {
   "cell_type": "markdown",
   "id": "59c55bb5",
   "metadata": {},
   "source": [
    "### Question 2\n",
    "\n",
    " Draw 1000 random consumers from your data. For each consumer,  run your online learning algorithm for 100 steps. Note that this is a simulation process --- i.e., your algorithm itself does not know $\\beta_{0j}, \\beta_{1j},\\cdots \\beta_{kj}$ and $\\alpha_j$, but can only observe the $\\widehat{u}_{ij}$ for any product $j$ that the algorithm pulled (i.e., purchased).     \n",
    " For each randomly picked consumer $i$, compute the difference $\\Delta_i$ between the  maximum utility $\\max_j\\widehat{u}_{ij}$ (i.e., consumer $i$'s  utility for her  favorite product) and the average utility that your algorithm\n",
    "achieved at the 100th step. Compute the average of $\\Delta_i$ over those 1000 consumers, and explain why there is such a difference.  "
   ]
  },
  {
   "cell_type": "code",
   "execution_count": null,
   "id": "b6b3851e",
   "metadata": {},
   "outputs": [],
   "source": [
    "def rewards_difference():\n",
    "    \n",
    "    \n",
    "    return \n",
    "\n",
    "\n",
    "\n",
    "def simulation():\n",
    "    \n",
    "    \n",
    "    return \n",
    "\n",
    "\n",
    "\n",
    "\n",
    "    \n",
    "\n"
   ]
  },
  {
   "cell_type": "markdown",
   "id": "04b91ba4",
   "metadata": {},
   "source": [
    "Explain why there is such a difference."
   ]
  },
  {
   "cell_type": "markdown",
   "id": "6239d3c1",
   "metadata": {},
   "source": [
    "**Please input your answer in this cell:**"
   ]
  }
 ],
 "metadata": {
  "kernelspec": {
   "display_name": "Python 3 (ipykernel)",
   "language": "python",
   "name": "python3"
  },
  "language_info": {
   "codemirror_mode": {
    "name": "ipython",
    "version": 3
   },
   "file_extension": ".py",
   "mimetype": "text/x-python",
   "name": "python",
   "nbconvert_exporter": "python",
   "pygments_lexer": "ipython3",
   "version": "3.9.7"
  }
 },
 "nbformat": 4,
 "nbformat_minor": 5
}
